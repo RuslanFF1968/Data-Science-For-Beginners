{
 "cells": [
  {
   "cell_type": "code",
   "execution_count": 1,
   "id": "8c9bfebc",
   "metadata": {
    "_cell_guid": "b1076dfc-b9ad-4769-8c92-a6c4dae69d19",
    "_uuid": "8f2839f25d086af736a60e9eeb907d3b93b6e0e5",
    "execution": {
     "iopub.execute_input": "2024-02-29T08:33:24.716736Z",
     "iopub.status.busy": "2024-02-29T08:33:24.716177Z",
     "iopub.status.idle": "2024-02-29T08:33:25.949619Z",
     "shell.execute_reply": "2024-02-29T08:33:25.947917Z"
    },
    "papermill": {
     "duration": 1.242197,
     "end_time": "2024-02-29T08:33:25.952697",
     "exception": false,
     "start_time": "2024-02-29T08:33:24.710500",
     "status": "completed"
    },
    "tags": []
   },
   "outputs": [
    {
     "name": "stdout",
     "output_type": "stream",
     "text": [
      "/kaggle/input/iris2802/Iris.csv\n"
     ]
    }
   ],
   "source": [
    "# This Python 3 environment comes with many helpful analytics libraries installed\n",
    "# It is defined by the kaggle/python Docker image: https://github.com/kaggle/docker-python\n",
    "# For example, here's several helpful packages to load\n",
    "\n",
    "import numpy as np # linear algebra\n",
    "import pandas as pd # data processing, CSV file I/O (e.g. pd.read_csv)\n",
    "\n",
    "# Input data files are available in the read-only \"../input/\" directory\n",
    "# For example, running this (by clicking run or pressing Shift+Enter) will list all files under the input directory\n",
    "\n",
    "import os\n",
    "for dirname, _, filenames in os.walk('/kaggle/input'):\n",
    "    for filename in filenames:\n",
    "        print(os.path.join(dirname, filename))\n",
    "\n",
    "# You can write up to 20GB to the current directory (/kaggle/working/) that gets preserved as output when you create a version using \"Save & Run All\" \n",
    "# You can also write temporary files to /kaggle/temp/, but they won't be saved outside of the current session"
   ]
  },
  {
   "cell_type": "code",
   "execution_count": 2,
   "id": "07a18ad4",
   "metadata": {
    "execution": {
     "iopub.execute_input": "2024-02-29T08:33:25.962119Z",
     "iopub.status.busy": "2024-02-29T08:33:25.961482Z",
     "iopub.status.idle": "2024-02-29T08:33:25.967932Z",
     "shell.execute_reply": "2024-02-29T08:33:25.966688Z"
    },
    "papermill": {
     "duration": 0.014101,
     "end_time": "2024-02-29T08:33:25.970724",
     "exception": false,
     "start_time": "2024-02-29T08:33:25.956623",
     "status": "completed"
    },
    "tags": []
   },
   "outputs": [
    {
     "name": "stdout",
     "output_type": "stream",
     "text": [
      "/kaggle/input/iris2802\n"
     ]
    }
   ],
   "source": [
    "print('/kaggle/input/iris2802')"
   ]
  },
  {
   "cell_type": "code",
   "execution_count": 3,
   "id": "b5b0c3d8",
   "metadata": {
    "execution": {
     "iopub.execute_input": "2024-02-29T08:33:25.980716Z",
     "iopub.status.busy": "2024-02-29T08:33:25.979240Z",
     "iopub.status.idle": "2024-02-29T08:33:26.028070Z",
     "shell.execute_reply": "2024-02-29T08:33:26.027083Z"
    },
    "papermill": {
     "duration": 0.056631,
     "end_time": "2024-02-29T08:33:26.030809",
     "exception": false,
     "start_time": "2024-02-29T08:33:25.974178",
     "status": "completed"
    },
    "tags": []
   },
   "outputs": [
    {
     "name": "stdout",
     "output_type": "stream",
     "text": [
      "      Id  SepalLengthCm  SepalWidthCm  PetalLengthCm  PetalWidthCm  \\\n",
      "0      1            5.1           3.5            1.4           0.2   \n",
      "1      2            4.9           3.0            1.4           0.2   \n",
      "2      3            4.7           3.2            1.3           0.2   \n",
      "3      4            4.6           3.1            1.5           0.2   \n",
      "4      5            5.0           3.6            1.4           0.2   \n",
      "..   ...            ...           ...            ...           ...   \n",
      "145  146            6.7           3.0            5.2           2.3   \n",
      "146  147            6.3           2.5            5.0           1.9   \n",
      "147  148            6.5           3.0            5.2           2.0   \n",
      "148  149            6.2           3.4            5.4           2.3   \n",
      "149  150            5.9           3.0            5.1           1.8   \n",
      "\n",
      "            Species  \n",
      "0       Iris-setosa  \n",
      "1       Iris-setosa  \n",
      "2       Iris-setosa  \n",
      "3       Iris-setosa  \n",
      "4       Iris-setosa  \n",
      "..              ...  \n",
      "145  Iris-virginica  \n",
      "146  Iris-virginica  \n",
      "147  Iris-virginica  \n",
      "148  Iris-virginica  \n",
      "149  Iris-virginica  \n",
      "\n",
      "[150 rows x 6 columns]\n"
     ]
    }
   ],
   "source": [
    "import pandas as pd\n",
    "my_data=pd.read_csv('/kaggle/input/iris2802/Iris.csv')\n",
    "print(my_data)"
   ]
  },
  {
   "cell_type": "code",
   "execution_count": 4,
   "id": "102d5d70",
   "metadata": {
    "execution": {
     "iopub.execute_input": "2024-02-29T08:33:26.040039Z",
     "iopub.status.busy": "2024-02-29T08:33:26.039620Z",
     "iopub.status.idle": "2024-02-29T08:33:26.048283Z",
     "shell.execute_reply": "2024-02-29T08:33:26.047058Z"
    },
    "papermill": {
     "duration": 0.016271,
     "end_time": "2024-02-29T08:33:26.050817",
     "exception": false,
     "start_time": "2024-02-29T08:33:26.034546",
     "status": "completed"
    },
    "tags": []
   },
   "outputs": [
    {
     "data": {
      "text/plain": [
       "pandas.core.frame.DataFrame"
      ]
     },
     "execution_count": 4,
     "metadata": {},
     "output_type": "execute_result"
    }
   ],
   "source": [
    "type(my_data)"
   ]
  },
  {
   "cell_type": "code",
   "execution_count": 5,
   "id": "d7baa997",
   "metadata": {
    "execution": {
     "iopub.execute_input": "2024-02-29T08:33:26.060243Z",
     "iopub.status.busy": "2024-02-29T08:33:26.059798Z",
     "iopub.status.idle": "2024-02-29T08:33:26.066919Z",
     "shell.execute_reply": "2024-02-29T08:33:26.065769Z"
    },
    "papermill": {
     "duration": 0.014676,
     "end_time": "2024-02-29T08:33:26.069383",
     "exception": false,
     "start_time": "2024-02-29T08:33:26.054707",
     "status": "completed"
    },
    "tags": []
   },
   "outputs": [
    {
     "data": {
      "text/plain": [
       "(150, 6)"
      ]
     },
     "execution_count": 5,
     "metadata": {},
     "output_type": "execute_result"
    }
   ],
   "source": [
    "my_data.shape"
   ]
  }
 ],
 "metadata": {
  "kaggle": {
   "accelerator": "none",
   "dataSources": [
    {
     "datasetId": 4506463,
     "sourceId": 7716236,
     "sourceType": "datasetVersion"
    }
   ],
   "dockerImageVersionId": 30646,
   "isGpuEnabled": false,
   "isInternetEnabled": false,
   "language": "python",
   "sourceType": "notebook"
  },
  "kernelspec": {
   "display_name": "Python 3",
   "language": "python",
   "name": "python3"
  },
  "language_info": {
   "codemirror_mode": {
    "name": "ipython",
    "version": 3
   },
   "file_extension": ".py",
   "mimetype": "text/x-python",
   "name": "python",
   "nbconvert_exporter": "python",
   "pygments_lexer": "ipython3",
   "version": "3.10.13"
  },
  "papermill": {
   "default_parameters": {},
   "duration": 5.439786,
   "end_time": "2024-02-29T08:33:26.594967",
   "environment_variables": {},
   "exception": null,
   "input_path": "__notebook__.ipynb",
   "output_path": "__notebook__.ipynb",
   "parameters": {},
   "start_time": "2024-02-29T08:33:21.155181",
   "version": "2.5.0"
  }
 },
 "nbformat": 4,
 "nbformat_minor": 5
}
