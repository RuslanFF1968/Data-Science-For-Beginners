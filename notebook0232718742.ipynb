{
 "cells": [
  {
   "cell_type": "code",
   "execution_count": 1,
   "id": "63209059",
   "metadata": {
    "_cell_guid": "b1076dfc-b9ad-4769-8c92-a6c4dae69d19",
    "_uuid": "8f2839f25d086af736a60e9eeb907d3b93b6e0e5",
    "execution": {
     "iopub.execute_input": "2024-02-24T23:30:58.510344Z",
     "iopub.status.busy": "2024-02-24T23:30:58.509695Z",
     "iopub.status.idle": "2024-02-24T23:30:59.398067Z",
     "shell.execute_reply": "2024-02-24T23:30:59.397100Z"
    },
    "papermill": {
     "duration": 0.894736,
     "end_time": "2024-02-24T23:30:59.400208",
     "exception": false,
     "start_time": "2024-02-24T23:30:58.505472",
     "status": "completed"
    },
    "tags": []
   },
   "outputs": [
    {
     "name": "stdout",
     "output_type": "stream",
     "text": [
      "/kaggle/input/stock-price-dataset/data (2).csv\n"
     ]
    }
   ],
   "source": [
    "# This Python 3 environment comes with many helpful analytics libraries installed\n",
    "# It is defined by the kaggle/python Docker image: https://github.com/kaggle/docker-python\n",
    "# For example, here's several helpful packages to load\n",
    "\n",
    "import numpy as np # linear algebra\n",
    "import pandas as pd # data processing, CSV file I/O (e.g. pd.read_csv)\n",
    "\n",
    "# Input data files are available in the read-only \"../input/\" directory\n",
    "# For example, running this (by clicking run or pressing Shift+Enter) will list all files under the input directory\n",
    "\n",
    "import os\n",
    "for dirname, _, filenames in os.walk('/kaggle/input'):\n",
    "    for filename in filenames:\n",
    "        print(os.path.join(dirname, filename))\n",
    "\n",
    "# You can write up to 20GB to the current directory (/kaggle/working/) that gets preserved as output when you create a version using \"Save & Run All\" \n",
    "# You can also write temporary files to /kaggle/temp/, but they won't be saved outside of the current session"
   ]
  },
  {
   "cell_type": "code",
   "execution_count": 2,
   "id": "4851459e",
   "metadata": {
    "execution": {
     "iopub.execute_input": "2024-02-24T23:30:59.406227Z",
     "iopub.status.busy": "2024-02-24T23:30:59.405661Z",
     "iopub.status.idle": "2024-02-24T23:30:59.427986Z",
     "shell.execute_reply": "2024-02-24T23:30:59.426572Z"
    },
    "papermill": {
     "duration": 0.027441,
     "end_time": "2024-02-24T23:30:59.430090",
     "exception": false,
     "start_time": "2024-02-24T23:30:59.402649",
     "status": "completed"
    },
    "tags": []
   },
   "outputs": [],
   "source": [
    "import pandas as pd\n",
    "my_data = pd.read_csv('/kaggle/input/stock-price-dataset/data (2).csv')"
   ]
  },
  {
   "cell_type": "code",
   "execution_count": 3,
   "id": "e9beacd5",
   "metadata": {
    "execution": {
     "iopub.execute_input": "2024-02-24T23:30:59.435525Z",
     "iopub.status.busy": "2024-02-24T23:30:59.435222Z",
     "iopub.status.idle": "2024-02-24T23:30:59.443110Z",
     "shell.execute_reply": "2024-02-24T23:30:59.441626Z"
    },
    "papermill": {
     "duration": 0.012335,
     "end_time": "2024-02-24T23:30:59.444610",
     "exception": false,
     "start_time": "2024-02-24T23:30:59.432275",
     "status": "completed"
    },
    "tags": []
   },
   "outputs": [
    {
     "name": "stdout",
     "output_type": "stream",
     "text": [
      "[['XZAG' 'CBX' 'HRZB00ICBEX6' ... 1689.63 -0.02 2017520.82]\n",
      " ['XZAG' 'CBX' 'HRZB00ICBEX6' ... 1689.94 0.84 1094356.06]\n",
      " ['XZAG' 'CBX' 'HRZB00ICBEX6' ... 1675.88 1.21 1125687.29]\n",
      " ...\n",
      " ['XZAG' 'CBX' 'HRZB00ICBEX6' ... 2059.9 0.45 2364610.48]\n",
      " ['XZAG' 'CBX' 'HRZB00ICBEX6' ... 2050.69 1.35 4235995.18]\n",
      " ['XZAG' 'CBX' 'HRZB00ICBEX6' ... 2023.36 0.96 1358250.94]]\n"
     ]
    }
   ],
   "source": [
    "R=np.array(my_data)\n",
    "print (R)"
   ]
  },
  {
   "cell_type": "code",
   "execution_count": 4,
   "id": "6acea11b",
   "metadata": {
    "execution": {
     "iopub.execute_input": "2024-02-24T23:30:59.449952Z",
     "iopub.status.busy": "2024-02-24T23:30:59.449641Z",
     "iopub.status.idle": "2024-02-24T23:30:59.467556Z",
     "shell.execute_reply": "2024-02-24T23:30:59.466193Z"
    },
    "papermill": {
     "duration": 0.022683,
     "end_time": "2024-02-24T23:30:59.469468",
     "exception": false,
     "start_time": "2024-02-24T23:30:59.446785",
     "status": "completed"
    },
    "tags": []
   },
   "outputs": [
    {
     "name": "stdout",
     "output_type": "stream",
     "text": [
      "       mic symbol          isin        date  open_value  high_value  \\\n",
      "0     XZAG    CBX  HRZB00ICBEX6  2015-12-30     1689.22     1689.71   \n",
      "1     XZAG    CBX  HRZB00ICBEX6  2015-12-29     1675.79     1691.02   \n",
      "2     XZAG    CBX  HRZB00ICBEX6  2015-12-28     1655.92     1677.17   \n",
      "3     XZAG    CBX  HRZB00ICBEX6  2015-12-23     1647.66     1655.77   \n",
      "4     XZAG    CBX  HRZB00ICBEX6  2015-12-22     1655.71     1655.71   \n",
      "...    ...    ...           ...         ...         ...         ...   \n",
      "1493  XZAG    CBX  HRZB00ICBEX6  2010-01-11     2080.33     2115.98   \n",
      "1494  XZAG    CBX  HRZB00ICBEX6  2010-01-08     2071.17     2074.79   \n",
      "1495  XZAG    CBX  HRZB00ICBEX6  2010-01-07     2058.04     2075.66   \n",
      "1496  XZAG    CBX  HRZB00ICBEX6  2010-01-05     2024.82     2071.80   \n",
      "1497  XZAG    CBX  HRZB00ICBEX6  2010-01-04     2001.34     2025.90   \n",
      "\n",
      "      low_value  last_value  change_prev_close_percentage    turnover  \n",
      "0       1673.62     1689.63                         -0.02  2017520.82  \n",
      "1       1673.37     1689.94                          0.84  1094356.06  \n",
      "2       1652.76     1675.88                          1.21  1125687.29  \n",
      "3       1641.41     1655.77                          0.49   592284.75  \n",
      "4       1642.60     1647.67                         -0.55  2714509.05  \n",
      "...         ...         ...                           ...         ...  \n",
      "1493    2080.32     2112.17                          1.80  3244944.69  \n",
      "1494    2062.27     2074.79                          0.72  2663570.68  \n",
      "1495    2046.12     2059.90                          0.45  2364610.48  \n",
      "1496    2023.17     2050.69                          1.35  4235995.18  \n",
      "1497    1979.85     2023.36                          0.96  1358250.94  \n",
      "\n",
      "[1498 rows x 10 columns]\n"
     ]
    }
   ],
   "source": [
    "print(my_data)"
   ]
  },
  {
   "cell_type": "code",
   "execution_count": 5,
   "id": "65431ca4",
   "metadata": {
    "execution": {
     "iopub.execute_input": "2024-02-24T23:30:59.475174Z",
     "iopub.status.busy": "2024-02-24T23:30:59.474864Z",
     "iopub.status.idle": "2024-02-24T23:30:59.478897Z",
     "shell.execute_reply": "2024-02-24T23:30:59.478192Z"
    },
    "papermill": {
     "duration": 0.008911,
     "end_time": "2024-02-24T23:30:59.480606",
     "exception": false,
     "start_time": "2024-02-24T23:30:59.471695",
     "status": "completed"
    },
    "tags": []
   },
   "outputs": [],
   "source": [
    "import matplotlib as mpl\n",
    "import matplotlib.pyplot as plt"
   ]
  }
 ],
 "metadata": {
  "kaggle": {
   "accelerator": "none",
   "dataSources": [
    {
     "datasetId": 4388879,
     "sourceId": 7536717,
     "sourceType": "datasetVersion"
    }
   ],
   "dockerImageVersionId": 30646,
   "isGpuEnabled": false,
   "isInternetEnabled": false,
   "language": "python",
   "sourceType": "notebook"
  },
  "kernelspec": {
   "display_name": "Python 3",
   "language": "python",
   "name": "python3"
  },
  "language_info": {
   "codemirror_mode": {
    "name": "ipython",
    "version": 3
   },
   "file_extension": ".py",
   "mimetype": "text/x-python",
   "name": "python",
   "nbconvert_exporter": "python",
   "pygments_lexer": "ipython3",
   "version": "3.10.13"
  },
  "papermill": {
   "default_parameters": {},
   "duration": 3.887442,
   "end_time": "2024-02-24T23:30:59.901887",
   "environment_variables": {},
   "exception": null,
   "input_path": "__notebook__.ipynb",
   "output_path": "__notebook__.ipynb",
   "parameters": {},
   "start_time": "2024-02-24T23:30:56.014445",
   "version": "2.5.0"
  }
 },
 "nbformat": 4,
 "nbformat_minor": 5
}
